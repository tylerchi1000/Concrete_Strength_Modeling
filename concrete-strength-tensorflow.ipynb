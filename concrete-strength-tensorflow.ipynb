{
 "cells": [
  {
   "cell_type": "code",
   "execution_count": 1,
   "id": "59cd2a5c",
   "metadata": {
    "execution": {
     "iopub.execute_input": "2023-03-03T00:42:04.361325Z",
     "iopub.status.busy": "2023-03-03T00:42:04.360940Z",
     "iopub.status.idle": "2023-03-03T00:42:13.616918Z",
     "shell.execute_reply": "2023-03-03T00:42:13.615675Z"
    },
    "papermill": {
     "duration": 9.265967,
     "end_time": "2023-03-03T00:42:13.620138",
     "exception": false,
     "start_time": "2023-03-03T00:42:04.354171",
     "status": "completed"
    },
    "tags": []
   },
   "outputs": [],
   "source": [
    "import numpy as np\n",
    "import pandas as pd\n",
    "import matplotlib.pyplot as plt\n",
    "from sklearn.model_selection import train_test_split\n",
    "from sklearn.preprocessing import StandardScaler\n",
    "import tensorflow as tf\n",
    "from tensorflow.keras import layers\n",
    "from tensorflow import keras"
   ]
  },
  {
   "cell_type": "code",
   "execution_count": 2,
   "id": "84033f41",
   "metadata": {
    "execution": {
     "iopub.execute_input": "2023-03-03T00:42:13.630162Z",
     "iopub.status.busy": "2023-03-03T00:42:13.629423Z",
     "iopub.status.idle": "2023-03-03T00:42:13.673608Z",
     "shell.execute_reply": "2023-03-03T00:42:13.672645Z"
    },
    "papermill": {
     "duration": 0.051976,
     "end_time": "2023-03-03T00:42:13.676306",
     "exception": false,
     "start_time": "2023-03-03T00:42:13.624330",
     "status": "completed"
    },
    "tags": []
   },
   "outputs": [],
   "source": [
    "train_df = pd.read_csv('/kaggle/input/playground-series-s3e9/train.csv')\n",
    "test_df = pd.read_csv('/kaggle/input/playground-series-s3e9/test.csv')\n",
    "original = pd.read_csv('/kaggle/input/predict-concrete-strength/ConcreteStrengthData.csv')"
   ]
  },
  {
   "cell_type": "code",
   "execution_count": 3,
   "id": "482c7b99",
   "metadata": {
    "execution": {
     "iopub.execute_input": "2023-03-03T00:42:13.686161Z",
     "iopub.status.busy": "2023-03-03T00:42:13.685767Z",
     "iopub.status.idle": "2023-03-03T00:42:13.704700Z",
     "shell.execute_reply": "2023-03-03T00:42:13.703442Z"
    },
    "papermill": {
     "duration": 0.026928,
     "end_time": "2023-03-03T00:42:13.707229",
     "exception": false,
     "start_time": "2023-03-03T00:42:13.680301",
     "status": "completed"
    },
    "tags": []
   },
   "outputs": [],
   "source": [
    "train_df.drop('id',axis=1,inplace=True)\n",
    "original['CementComponent'] = original['CementComponent ']\n",
    "original.drop('CementComponent ',axis=1,inplace=True)\n",
    "combined_df = pd.concat([train_df.copy(),original.copy()],ignore_index=True)"
   ]
  },
  {
   "cell_type": "code",
   "execution_count": 4,
   "id": "07f41065",
   "metadata": {
    "execution": {
     "iopub.execute_input": "2023-03-03T00:42:13.716718Z",
     "iopub.status.busy": "2023-03-03T00:42:13.716316Z",
     "iopub.status.idle": "2023-03-03T00:42:32.951340Z",
     "shell.execute_reply": "2023-03-03T00:42:32.950288Z"
    },
    "papermill": {
     "duration": 19.243069,
     "end_time": "2023-03-03T00:42:32.954182",
     "exception": false,
     "start_time": "2023-03-03T00:42:13.711113",
     "status": "completed"
    },
    "tags": []
   },
   "outputs": [
    {
     "name": "stdout",
     "output_type": "stream",
     "text": [
      "Epoch 1/100\n",
      "129/129 [==============================] - 3s 13ms/step - loss: 575.1736 - mae: 18.7225 - mse: 575.1736 - val_loss: 276.6036 - val_mae: 13.0692 - val_mse: 276.6036\n",
      "Epoch 2/100\n",
      "129/129 [==============================] - 1s 9ms/step - loss: 250.3920 - mae: 12.4815 - mse: 250.3920 - val_loss: 239.8956 - val_mae: 12.2168 - val_mse: 239.8956\n",
      "Epoch 3/100\n",
      "129/129 [==============================] - 1s 9ms/step - loss: 226.2328 - mae: 11.8397 - mse: 226.2328 - val_loss: 213.5389 - val_mae: 11.4497 - val_mse: 213.5389\n",
      "Epoch 4/100\n",
      "129/129 [==============================] - 1s 9ms/step - loss: 201.1357 - mae: 11.0399 - mse: 201.1357 - val_loss: 183.1328 - val_mae: 10.5225 - val_mse: 183.1328\n",
      "Epoch 5/100\n",
      "129/129 [==============================] - 1s 9ms/step - loss: 171.7331 - mae: 10.1108 - mse: 171.7331 - val_loss: 159.7033 - val_mae: 9.6751 - val_mse: 159.7033\n",
      "Epoch 6/100\n",
      "129/129 [==============================] - 0s 3ms/step - loss: 156.3403 - mae: 9.5777 - mse: 156.3403 - val_loss: 162.1742 - val_mae: 9.6043 - val_mse: 162.1742\n",
      "Epoch 7/100\n",
      "129/129 [==============================] - 1s 12ms/step - loss: 151.4319 - mae: 9.4442 - mse: 151.4319 - val_loss: 148.1055 - val_mae: 9.3459 - val_mse: 148.1055\n",
      "Epoch 8/100\n",
      "129/129 [==============================] - 1s 9ms/step - loss: 146.3746 - mae: 9.2673 - mse: 146.3746 - val_loss: 147.4708 - val_mae: 9.2190 - val_mse: 147.4708\n",
      "Epoch 9/100\n",
      "129/129 [==============================] - 0s 3ms/step - loss: 141.5316 - mae: 9.1271 - mse: 141.5316 - val_loss: 150.2392 - val_mae: 9.5491 - val_mse: 150.2392\n",
      "Epoch 10/100\n",
      "129/129 [==============================] - 0s 2ms/step - loss: 140.1868 - mae: 9.0780 - mse: 140.1868 - val_loss: 150.6286 - val_mae: 9.5195 - val_mse: 150.6286\n",
      "Epoch 11/100\n",
      "129/129 [==============================] - 0s 2ms/step - loss: 140.5389 - mae: 9.0943 - mse: 140.5389 - val_loss: 150.2921 - val_mae: 9.3112 - val_mse: 150.2921\n",
      "Epoch 12/100\n",
      "129/129 [==============================] - 0s 2ms/step - loss: 138.5795 - mae: 9.0285 - mse: 138.5795 - val_loss: 147.7799 - val_mae: 9.3365 - val_mse: 147.7799\n",
      "Epoch 13/100\n",
      "129/129 [==============================] - 0s 2ms/step - loss: 137.8607 - mae: 8.9882 - mse: 137.8607 - val_loss: 153.3534 - val_mae: 9.3680 - val_mse: 153.3534\n",
      "Epoch 14/100\n",
      "129/129 [==============================] - 1s 9ms/step - loss: 139.0097 - mae: 9.0199 - mse: 139.0097 - val_loss: 146.9256 - val_mae: 9.2518 - val_mse: 146.9256\n",
      "Epoch 15/100\n",
      "129/129 [==============================] - 0s 3ms/step - loss: 136.7800 - mae: 8.9370 - mse: 136.7800 - val_loss: 148.5680 - val_mae: 9.2373 - val_mse: 148.5680\n",
      "Epoch 16/100\n",
      "129/129 [==============================] - 1s 9ms/step - loss: 137.3373 - mae: 8.9917 - mse: 137.3373 - val_loss: 146.4450 - val_mae: 9.1492 - val_mse: 146.4450\n",
      "Epoch 17/100\n",
      "129/129 [==============================] - 0s 2ms/step - loss: 140.2317 - mae: 9.0815 - mse: 140.2317 - val_loss: 151.8424 - val_mae: 9.5022 - val_mse: 151.8424\n",
      "Epoch 18/100\n",
      "129/129 [==============================] - 0s 2ms/step - loss: 135.5399 - mae: 8.8837 - mse: 135.5399 - val_loss: 158.5581 - val_mae: 9.5273 - val_mse: 158.5581\n",
      "Epoch 19/100\n",
      "129/129 [==============================] - 0s 2ms/step - loss: 137.6483 - mae: 8.9264 - mse: 137.6483 - val_loss: 148.4558 - val_mae: 9.3669 - val_mse: 148.4558\n",
      "Epoch 20/100\n",
      "129/129 [==============================] - 0s 2ms/step - loss: 135.7329 - mae: 8.9220 - mse: 135.7329 - val_loss: 156.5536 - val_mae: 9.7966 - val_mse: 156.5536\n",
      "Epoch 21/100\n",
      "129/129 [==============================] - 0s 2ms/step - loss: 133.7082 - mae: 8.8746 - mse: 133.7082 - val_loss: 151.3586 - val_mae: 9.4341 - val_mse: 151.3586\n",
      "Epoch 22/100\n",
      "129/129 [==============================] - 0s 2ms/step - loss: 134.1420 - mae: 8.8737 - mse: 134.1420 - val_loss: 154.8931 - val_mae: 9.4507 - val_mse: 154.8931\n",
      "Epoch 23/100\n",
      "129/129 [==============================] - 0s 2ms/step - loss: 134.1785 - mae: 8.8347 - mse: 134.1785 - val_loss: 151.5166 - val_mae: 9.4507 - val_mse: 151.5166\n",
      "Epoch 24/100\n",
      "129/129 [==============================] - 0s 2ms/step - loss: 133.3870 - mae: 8.8703 - mse: 133.3870 - val_loss: 153.0435 - val_mae: 9.5353 - val_mse: 153.0435\n",
      "Epoch 25/100\n",
      "129/129 [==============================] - 0s 2ms/step - loss: 133.7948 - mae: 8.8258 - mse: 133.7948 - val_loss: 149.4284 - val_mae: 9.3726 - val_mse: 149.4284\n",
      "Epoch 26/100\n",
      "129/129 [==============================] - 0s 2ms/step - loss: 135.4764 - mae: 8.8926 - mse: 135.4764 - val_loss: 147.6448 - val_mae: 9.2446 - val_mse: 147.6448\n"
     ]
    },
    {
     "data": {
      "image/png": "[encoded data removed]",
      "text/plain": [
       "<Figure size 640x480 with 1 Axes>"
      ]
     },
     "metadata": {},
     "output_type": "display_data"
    },
    {
     "name": "stdout",
     "output_type": "stream",
     "text": [
      " 43/113 [==========>...................] - ETA: 0s "
     ]
    },
    {
     "name": "stderr",
     "output_type": "stream",
     "text": [
      "/opt/conda/lib/python3.7/site-packages/sklearn/base.py:444: UserWarning: X has feature names, but StandardScaler was fitted without feature names\n",
      "  f\"X has feature names, but {self.__class__.__name__} was fitted without\"\n"
     ]
    },
    {
     "name": "stdout",
     "output_type": "stream",
     "text": [
      "113/113 [==============================] - 0s 1ms/step\n"
     ]
    }
   ],
   "source": [
    "X = combined_df.iloc[:, :-1].values\n",
    "y = combined_df.iloc[:, -1].values\n",
    "\n",
    "# Scale the data using StandardScaler\n",
    "scaler = StandardScaler()\n",
    "X = scaler.fit_transform(X)\n",
    "\n",
    "# Split the data into training and test sets\n",
    "X_train, X_test, y_train, y_test = train_test_split(X, y, test_size=0.2, random_state=42)\n",
    "\n",
    "# Define the model\n",
    "model = keras.Sequential([\n",
    "    layers.Dense(64, activation='relu', input_shape=[X.shape[1]]),\n",
    "    layers.Dense(128, activation='relu'),\n",
    "    layers.Dense(64, activation='relu'),\n",
    "    layers.Dense(32, activation='relu'),\n",
    "    layers.Dense(1)\n",
    "])\n",
    "opt = keras.optimizers.Adam(learning_rate=0.001)\n",
    "\n",
    "model.compile(optimizer=opt, loss='mse', metrics=['mae', 'mse'])\n",
    "\n",
    "early_stopping_callback = tf.keras.callbacks.EarlyStopping(monitor='val_loss', patience=10, restore_best_weights=True)\n",
    "checkpoint_callback = tf.keras.callbacks.ModelCheckpoint(filepath='nn_v1', monitor='val_loss', save_best_only=True)\n",
    "\n",
    "# Train the model\n",
    "history = model.fit(X_train, y_train, epochs=100,\n",
    "                    callbacks = [early_stopping_callback,checkpoint_callback],\n",
    "                    batch_size=32, validation_split=0.2)\n",
    "\n",
    "# Plot the train/validation loss chart\n",
    "loss = history.history['loss']\n",
    "val_loss = history.history['val_loss']\n",
    "epochs = range(1, len(loss) + 1)\n",
    "\n",
    "plt.plot(epochs, loss, 'bo', label='Training loss')\n",
    "plt.plot(epochs, val_loss, 'b', label='Validation loss')\n",
    "plt.title('Training and validation loss')\n",
    "plt.xlabel('Epochs')\n",
    "plt.ylabel('Loss')\n",
    "plt.legend()\n",
    "plt.show()\n",
    "\n",
    "tmp = test_df.drop('id',axis=1)\n",
    "tmp = scaler.transform(tmp)\n",
    "nn_pred = model.predict(tmp)\n",
    "nn_pred_flat = nn_pred.reshape(-1)\n",
    "nn_pred_flat\n",
    "\n",
    "nn_submission_data = {'id': test_df.id, 'Strength': nn_pred_flat}\n",
    "nn_submission_df = pd.DataFrame(nn_submission_data)\n",
    "nn_submission_df.to_csv('nn_submission.csv',index=False)\n"
   ]
  },
  {
   "cell_type": "markdown",
   "id": "55e4584c",
   "metadata": {
    "papermill": {
     "duration": 0.015634,
     "end_time": "2023-03-03T00:42:32.986401",
     "exception": false,
     "start_time": "2023-03-03T00:42:32.970767",
     "status": "completed"
    },
    "tags": []
   },
   "source": [
    "https://www.kaggle.com/code/vaidyaprasad84/ps3-e9-feature-engineering"
   ]
  },
  {
   "cell_type": "code",
   "execution_count": 5,
   "id": "26ca7784",
   "metadata": {
    "execution": {
     "iopub.execute_input": "2023-03-03T00:42:33.020357Z",
     "iopub.status.busy": "2023-03-03T00:42:33.019976Z",
     "iopub.status.idle": "2023-03-03T00:42:33.027112Z",
     "shell.execute_reply": "2023-03-03T00:42:33.025910Z"
    },
    "papermill": {
     "duration": 0.027009,
     "end_time": "2023-03-03T00:42:33.029492",
     "exception": false,
     "start_time": "2023-03-03T00:42:33.002483",
     "status": "completed"
    },
    "tags": []
   },
   "outputs": [],
   "source": [
    "def feature_engineer(df):\n",
    "    df['Water_Cement'] = df['WaterComponent']/df['CementComponent']\n",
    "    df['Coarse_Fine'] = df['CoarseAggregateComponent']/df['FineAggregateComponent']\n",
    "    df['Aggregate'] = df['CoarseAggregateComponent'] + df['FineAggregateComponent']\n",
    "    df['Aggregate_Cement'] = df['Aggregate']/df['CementComponent']\n",
    "    df['Slag_Cement'] = df['BlastFurnaceSlag']/df['CementComponent']\n",
    "    df['Ash_Cement'] = df['FlyAshComponent']/df['CementComponent']\n",
    "    df['Plastic_Cement'] = df['SuperplasticizerComponent']/df['CementComponent']\n",
    "    df['Age_Water'] = df['AgeInDays']/df['WaterComponent']"
   ]
  },
  {
   "cell_type": "code",
   "execution_count": 6,
   "id": "ad604f22",
   "metadata": {
    "execution": {
     "iopub.execute_input": "2023-03-03T00:42:33.063435Z",
     "iopub.status.busy": "2023-03-03T00:42:33.063035Z",
     "iopub.status.idle": "2023-03-03T00:42:33.073907Z",
     "shell.execute_reply": "2023-03-03T00:42:33.072910Z"
    },
    "papermill": {
     "duration": 0.030693,
     "end_time": "2023-03-03T00:42:33.076262",
     "exception": false,
     "start_time": "2023-03-03T00:42:33.045569",
     "status": "completed"
    },
    "tags": []
   },
   "outputs": [],
   "source": [
    "feature_engineer(combined_df)"
   ]
  },
  {
   "cell_type": "code",
   "execution_count": 7,
   "id": "aa0f9113",
   "metadata": {
    "execution": {
     "iopub.execute_input": "2023-03-03T00:42:33.110607Z",
     "iopub.status.busy": "2023-03-03T00:42:33.110204Z",
     "iopub.status.idle": "2023-03-03T00:42:33.142483Z",
     "shell.execute_reply": "2023-03-03T00:42:33.141201Z"
    },
    "papermill": {
     "duration": 0.051878,
     "end_time": "2023-03-03T00:42:33.144872",
     "exception": false,
     "start_time": "2023-03-03T00:42:33.092994",
     "status": "completed"
    },
    "tags": []
   },
   "outputs": [
    {
     "data": {
      "text/html": [
       "<div>\n",
       "<style scoped>\n",
       "    .dataframe tbody tr th:only-of-type {\n",
       "        vertical-align: middle;\n",
       "    }\n",
       "\n",
       "    .dataframe tbody tr th {\n",
       "        vertical-align: top;\n",
       "    }\n",
       "\n",
       "    .dataframe thead th {\n",
       "        text-align: right;\n",
       "    }\n",
       "</style>\n",
       "<table border=\"1\" class=\"dataframe\">\n",
       "  <thead>\n",
       "    <tr style=\"text-align: right;\">\n",
       "      <th></th>\n",
       "      <th>CementComponent</th>\n",
       "      <th>BlastFurnaceSlag</th>\n",
       "      <th>FlyAshComponent</th>\n",
       "      <th>WaterComponent</th>\n",
       "      <th>SuperplasticizerComponent</th>\n",
       "      <th>CoarseAggregateComponent</th>\n",
       "      <th>FineAggregateComponent</th>\n",
       "      <th>AgeInDays</th>\n",
       "      <th>Strength</th>\n",
       "      <th>Water_Cement</th>\n",
       "      <th>Coarse_Fine</th>\n",
       "      <th>Aggregate</th>\n",
       "      <th>Aggregate_Cement</th>\n",
       "      <th>Slag_Cement</th>\n",
       "      <th>Ash_Cement</th>\n",
       "      <th>Plastic_Cement</th>\n",
       "      <th>Age_Water</th>\n",
       "    </tr>\n",
       "  </thead>\n",
       "  <tbody>\n",
       "    <tr>\n",
       "      <th>0</th>\n",
       "      <td>525.0</td>\n",
       "      <td>0.0</td>\n",
       "      <td>0.0</td>\n",
       "      <td>186.0</td>\n",
       "      <td>0.0</td>\n",
       "      <td>1125.0</td>\n",
       "      <td>613.0</td>\n",
       "      <td>3</td>\n",
       "      <td>10.38</td>\n",
       "      <td>0.354286</td>\n",
       "      <td>1.835237</td>\n",
       "      <td>1738.0</td>\n",
       "      <td>3.310476</td>\n",
       "      <td>0.000000</td>\n",
       "      <td>0.0</td>\n",
       "      <td>0.000000</td>\n",
       "      <td>0.016129</td>\n",
       "    </tr>\n",
       "    <tr>\n",
       "      <th>1</th>\n",
       "      <td>143.0</td>\n",
       "      <td>169.0</td>\n",
       "      <td>143.0</td>\n",
       "      <td>191.0</td>\n",
       "      <td>8.0</td>\n",
       "      <td>967.0</td>\n",
       "      <td>643.0</td>\n",
       "      <td>28</td>\n",
       "      <td>23.52</td>\n",
       "      <td>1.335664</td>\n",
       "      <td>1.503888</td>\n",
       "      <td>1610.0</td>\n",
       "      <td>11.258741</td>\n",
       "      <td>1.181818</td>\n",
       "      <td>1.0</td>\n",
       "      <td>0.055944</td>\n",
       "      <td>0.146597</td>\n",
       "    </tr>\n",
       "    <tr>\n",
       "      <th>2</th>\n",
       "      <td>289.0</td>\n",
       "      <td>134.7</td>\n",
       "      <td>0.0</td>\n",
       "      <td>185.7</td>\n",
       "      <td>0.0</td>\n",
       "      <td>1075.0</td>\n",
       "      <td>795.3</td>\n",
       "      <td>28</td>\n",
       "      <td>36.96</td>\n",
       "      <td>0.642561</td>\n",
       "      <td>1.351691</td>\n",
       "      <td>1870.3</td>\n",
       "      <td>6.471626</td>\n",
       "      <td>0.466090</td>\n",
       "      <td>0.0</td>\n",
       "      <td>0.000000</td>\n",
       "      <td>0.150781</td>\n",
       "    </tr>\n",
       "    <tr>\n",
       "      <th>3</th>\n",
       "      <td>304.0</td>\n",
       "      <td>76.0</td>\n",
       "      <td>0.0</td>\n",
       "      <td>228.0</td>\n",
       "      <td>0.0</td>\n",
       "      <td>932.0</td>\n",
       "      <td>670.0</td>\n",
       "      <td>365</td>\n",
       "      <td>39.05</td>\n",
       "      <td>0.750000</td>\n",
       "      <td>1.391045</td>\n",
       "      <td>1602.0</td>\n",
       "      <td>5.269737</td>\n",
       "      <td>0.250000</td>\n",
       "      <td>0.0</td>\n",
       "      <td>0.000000</td>\n",
       "      <td>1.600877</td>\n",
       "    </tr>\n",
       "    <tr>\n",
       "      <th>4</th>\n",
       "      <td>157.0</td>\n",
       "      <td>236.0</td>\n",
       "      <td>0.0</td>\n",
       "      <td>192.0</td>\n",
       "      <td>0.0</td>\n",
       "      <td>935.4</td>\n",
       "      <td>781.2</td>\n",
       "      <td>90</td>\n",
       "      <td>74.19</td>\n",
       "      <td>1.222930</td>\n",
       "      <td>1.197389</td>\n",
       "      <td>1716.6</td>\n",
       "      <td>10.933758</td>\n",
       "      <td>1.503185</td>\n",
       "      <td>0.0</td>\n",
       "      <td>0.000000</td>\n",
       "      <td>0.468750</td>\n",
       "    </tr>\n",
       "  </tbody>\n",
       "</table>\n",
       "</div>"
      ],
      "text/plain": [
       "   CementComponent  BlastFurnaceSlag  FlyAshComponent  WaterComponent  \\\n",
       "0            525.0               0.0              0.0           186.0   \n",
       "1            143.0             169.0            143.0           191.0   \n",
       "2            289.0             134.7              0.0           185.7   \n",
       "3            304.0              76.0              0.0           228.0   \n",
       "4            157.0             236.0              0.0           192.0   \n",
       "\n",
       "   SuperplasticizerComponent  CoarseAggregateComponent  \\\n",
       "0                        0.0                    1125.0   \n",
       "1                        8.0                     967.0   \n",
       "2                        0.0                    1075.0   \n",
       "3                        0.0                     932.0   \n",
       "4                        0.0                     935.4   \n",
       "\n",
       "   FineAggregateComponent  AgeInDays  Strength  Water_Cement  Coarse_Fine  \\\n",
       "0                   613.0          3     10.38      0.354286     1.835237   \n",
       "1                   643.0         28     23.52      1.335664     1.503888   \n",
       "2                   795.3         28     36.96      0.642561     1.351691   \n",
       "3                   670.0        365     39.05      0.750000     1.391045   \n",
       "4                   781.2         90     74.19      1.222930     1.197389   \n",
       "\n",
       "   Aggregate  Aggregate_Cement  Slag_Cement  Ash_Cement  Plastic_Cement  \\\n",
       "0     1738.0          3.310476     0.000000         0.0        0.000000   \n",
       "1     1610.0         11.258741     1.181818         1.0        0.055944   \n",
       "2     1870.3          6.471626     0.466090         0.0        0.000000   \n",
       "3     1602.0          5.269737     0.250000         0.0        0.000000   \n",
       "4     1716.6         10.933758     1.503185         0.0        0.000000   \n",
       "\n",
       "   Age_Water  \n",
       "0   0.016129  \n",
       "1   0.146597  \n",
       "2   0.150781  \n",
       "3   1.600877  \n",
       "4   0.468750  "
      ]
     },
     "execution_count": 7,
     "metadata": {},
     "output_type": "execute_result"
    }
   ],
   "source": [
    "combined_df.head()"
   ]
  },
  {
   "cell_type": "code",
   "execution_count": 8,
   "id": "a461c6aa",
   "metadata": {
    "execution": {
     "iopub.execute_input": "2023-03-03T00:42:33.179184Z",
     "iopub.status.busy": "2023-03-03T00:42:33.178803Z",
     "iopub.status.idle": "2023-03-03T00:42:52.081746Z",
     "shell.execute_reply": "2023-03-03T00:42:52.080451Z"
    },
    "papermill": {
     "duration": 18.92315,
     "end_time": "2023-03-03T00:42:52.084264",
     "exception": false,
     "start_time": "2023-03-03T00:42:33.161114",
     "status": "completed"
    },
    "tags": []
   },
   "outputs": [
    {
     "name": "stdout",
     "output_type": "stream",
     "text": [
      "Epoch 1/100\n",
      "145/145 [==============================] - 2s 10ms/step - loss: 550.8116 - mae: 18.2943 - mse: 550.8116 - val_loss: 272.4917 - val_mae: 12.9596 - val_mse: 272.4917\n",
      "Epoch 2/100\n",
      "145/145 [==============================] - 1s 8ms/step - loss: 242.7344 - mae: 12.2861 - mse: 242.7344 - val_loss: 235.7003 - val_mae: 11.9960 - val_mse: 235.7003\n",
      "Epoch 3/100\n",
      "145/145 [==============================] - 1s 8ms/step - loss: 220.0215 - mae: 11.6725 - mse: 220.0215 - val_loss: 206.5004 - val_mae: 11.3226 - val_mse: 206.5004\n",
      "Epoch 4/100\n",
      "145/145 [==============================] - 2s 11ms/step - loss: 182.9583 - mae: 10.5195 - mse: 182.9583 - val_loss: 164.0536 - val_mae: 9.8817 - val_mse: 164.0536\n",
      "Epoch 5/100\n",
      "145/145 [==============================] - 1s 9ms/step - loss: 158.0763 - mae: 9.6692 - mse: 158.0763 - val_loss: 151.8664 - val_mae: 9.4733 - val_mse: 151.8664\n",
      "Epoch 6/100\n",
      "145/145 [==============================] - 0s 2ms/step - loss: 149.7153 - mae: 9.3815 - mse: 149.7153 - val_loss: 169.8419 - val_mae: 10.2441 - val_mse: 169.8419\n",
      "Epoch 7/100\n",
      "145/145 [==============================] - 1s 9ms/step - loss: 150.7327 - mae: 9.3998 - mse: 150.7327 - val_loss: 149.9481 - val_mae: 9.4857 - val_mse: 149.9481\n",
      "Epoch 8/100\n",
      "145/145 [==============================] - 0s 2ms/step - loss: 143.5192 - mae: 9.1499 - mse: 143.5192 - val_loss: 152.9073 - val_mae: 9.7490 - val_mse: 152.9073\n",
      "Epoch 9/100\n",
      "145/145 [==============================] - 0s 2ms/step - loss: 140.4590 - mae: 9.0037 - mse: 140.4590 - val_loss: 157.1742 - val_mae: 10.0391 - val_mse: 157.1742\n",
      "Epoch 10/100\n",
      "145/145 [==============================] - 1s 8ms/step - loss: 140.5975 - mae: 9.0677 - mse: 140.5975 - val_loss: 144.6307 - val_mae: 9.3370 - val_mse: 144.6307\n",
      "Epoch 11/100\n",
      "145/145 [==============================] - 1s 8ms/step - loss: 137.4221 - mae: 8.9392 - mse: 137.4221 - val_loss: 143.2714 - val_mae: 9.2283 - val_mse: 143.2714\n",
      "Epoch 12/100\n",
      "145/145 [==============================] - 0s 2ms/step - loss: 139.7355 - mae: 9.0101 - mse: 139.7355 - val_loss: 143.5089 - val_mae: 9.1452 - val_mse: 143.5089\n",
      "Epoch 13/100\n",
      "145/145 [==============================] - 0s 2ms/step - loss: 136.4928 - mae: 8.9218 - mse: 136.4928 - val_loss: 148.4946 - val_mae: 9.3030 - val_mse: 148.4946\n",
      "Epoch 14/100\n",
      "145/145 [==============================] - 0s 2ms/step - loss: 137.2378 - mae: 8.9241 - mse: 137.2378 - val_loss: 152.0584 - val_mae: 9.3959 - val_mse: 152.0584\n",
      "Epoch 15/100\n",
      "145/145 [==============================] - 0s 2ms/step - loss: 135.3533 - mae: 8.8673 - mse: 135.3533 - val_loss: 145.3904 - val_mae: 9.2561 - val_mse: 145.3904\n",
      "Epoch 16/100\n",
      "145/145 [==============================] - 1s 8ms/step - loss: 136.8051 - mae: 8.8878 - mse: 136.8051 - val_loss: 140.5492 - val_mae: 9.1102 - val_mse: 140.5492\n",
      "Epoch 17/100\n",
      "145/145 [==============================] - 0s 2ms/step - loss: 134.1301 - mae: 8.8220 - mse: 134.1301 - val_loss: 147.4653 - val_mae: 9.4720 - val_mse: 147.4653\n",
      "Epoch 18/100\n",
      "145/145 [==============================] - 0s 2ms/step - loss: 134.5782 - mae: 8.8515 - mse: 134.5782 - val_loss: 142.6947 - val_mae: 9.0861 - val_mse: 142.6947\n",
      "Epoch 19/100\n",
      "145/145 [==============================] - 0s 2ms/step - loss: 133.7932 - mae: 8.8249 - mse: 133.7932 - val_loss: 143.8060 - val_mae: 9.2829 - val_mse: 143.8060\n",
      "Epoch 20/100\n",
      "145/145 [==============================] - 0s 2ms/step - loss: 133.7336 - mae: 8.8285 - mse: 133.7336 - val_loss: 146.1660 - val_mae: 9.4046 - val_mse: 146.1660\n",
      "Epoch 21/100\n",
      "145/145 [==============================] - 0s 2ms/step - loss: 132.8243 - mae: 8.7918 - mse: 132.8243 - val_loss: 142.5144 - val_mae: 9.1436 - val_mse: 142.5144\n",
      "Epoch 22/100\n",
      "145/145 [==============================] - 0s 2ms/step - loss: 132.2968 - mae: 8.7390 - mse: 132.2968 - val_loss: 148.8674 - val_mae: 9.2221 - val_mse: 148.8674\n",
      "Epoch 23/100\n",
      "145/145 [==============================] - 0s 2ms/step - loss: 134.1528 - mae: 8.8393 - mse: 134.1528 - val_loss: 141.8969 - val_mae: 9.1333 - val_mse: 141.8969\n",
      "Epoch 24/100\n",
      "145/145 [==============================] - 0s 2ms/step - loss: 133.5759 - mae: 8.7974 - mse: 133.5759 - val_loss: 147.5441 - val_mae: 9.1685 - val_mse: 147.5441\n",
      "Epoch 25/100\n",
      "145/145 [==============================] - 0s 2ms/step - loss: 132.3356 - mae: 8.7694 - mse: 132.3356 - val_loss: 143.6465 - val_mae: 9.2064 - val_mse: 143.6465\n",
      "Epoch 26/100\n",
      "145/145 [==============================] - 0s 2ms/step - loss: 131.0080 - mae: 8.7381 - mse: 131.0080 - val_loss: 144.1746 - val_mae: 9.1822 - val_mse: 144.1746\n"
     ]
    },
    {
     "data": {
      "image/png": "[encoded data removed]",
      "text/plain": [
       "<Figure size 640x480 with 1 Axes>"
      ]
     },
     "metadata": {},
     "output_type": "display_data"
    }
   ],
   "source": [
    "X = combined_df.drop('Strength',axis=1).values\n",
    "y = combined_df.loc[:,'Strength'].values\n",
    "\n",
    "# Scale the data using StandardScaler\n",
    "scaler = StandardScaler()\n",
    "X = scaler.fit_transform(X)\n",
    "\n",
    "# Split the data into training and test sets\n",
    "X_train, X_test, y_train, y_test = train_test_split(X, y, test_size=0.1, random_state=42)\n",
    "\n",
    "# Define the model\n",
    "model = keras.Sequential([\n",
    "    layers.Dense(64, activation='relu', input_shape=[X.shape[1]]),\n",
    "    layers.Dense(128, activation='relu'),\n",
    "    layers.Dense(64, activation='relu'),\n",
    "    layers.Dense(32, activation='relu'),\n",
    "    layers.Dense(1)\n",
    "])\n",
    "opt = keras.optimizers.Adam(learning_rate=0.001)\n",
    "\n",
    "model.compile(optimizer=opt, loss='mse', metrics=['mae', 'mse'])\n",
    "\n",
    "early_stopping_callback = tf.keras.callbacks.EarlyStopping(monitor='val_loss', patience=10, restore_best_weights=True)\n",
    "checkpoint_callback = tf.keras.callbacks.ModelCheckpoint(filepath='nn_v1', monitor='val_loss', save_best_only=True)\n",
    "\n",
    "# Train the model\n",
    "history = model.fit(X_train, y_train, epochs=100,\n",
    "                    callbacks = [early_stopping_callback,checkpoint_callback],\n",
    "                    batch_size=32, validation_split=0.2)\n",
    "\n",
    "# Plot the train/validation loss chart\n",
    "loss = history.history['loss']\n",
    "val_loss = history.history['val_loss']\n",
    "epochs = range(1, len(loss) + 1)\n",
    "\n",
    "plt.plot(epochs, loss, 'bo', label='Training loss')\n",
    "plt.plot(epochs, val_loss, 'b', label='Validation loss')\n",
    "plt.title('Training and validation loss')\n",
    "plt.xlabel('Epochs')\n",
    "plt.ylabel('Loss')\n",
    "plt.legend()\n",
    "plt.show()"
   ]
  },
  {
   "cell_type": "code",
   "execution_count": 9,
   "id": "b2380c74",
   "metadata": {
    "execution": {
     "iopub.execute_input": "2023-03-03T00:42:52.146205Z",
     "iopub.status.busy": "2023-03-03T00:42:52.145390Z",
     "iopub.status.idle": "2023-03-03T00:42:52.459833Z",
     "shell.execute_reply": "2023-03-03T00:42:52.458804Z"
    },
    "papermill": {
     "duration": 0.348611,
     "end_time": "2023-03-03T00:42:52.462774",
     "exception": false,
     "start_time": "2023-03-03T00:42:52.114163",
     "status": "completed"
    },
    "tags": []
   },
   "outputs": [
    {
     "name": "stdout",
     "output_type": "stream",
     "text": [
      " 44/113 [==========>...................] - ETA: 0s"
     ]
    },
    {
     "name": "stderr",
     "output_type": "stream",
     "text": [
      "/opt/conda/lib/python3.7/site-packages/sklearn/base.py:444: UserWarning: X has feature names, but StandardScaler was fitted without feature names\n",
      "  f\"X has feature names, but {self.__class__.__name__} was fitted without\"\n"
     ]
    },
    {
     "name": "stdout",
     "output_type": "stream",
     "text": [
      "113/113 [==============================] - 0s 1ms/step\n"
     ]
    }
   ],
   "source": [
    "tmp = test_df.drop('id',axis=1)\n",
    "feature_engineer(tmp)\n",
    "tmp = scaler.transform(tmp)\n",
    "nn_pred = model.predict(tmp)\n",
    "nn_pred_flat = nn_pred.reshape(-1)\n",
    "nn_pred_flat\n",
    "\n",
    "nn_submission_data = {'id': test_df.id, 'Strength': nn_pred_flat}\n",
    "nn_submission_df = pd.DataFrame(nn_submission_data)\n",
    "nn_submission_df.to_csv('submission.csv',index=False)"
   ]
  },
  {
   "cell_type": "code",
   "execution_count": 10,
   "id": "680f1203",
   "metadata": {
    "execution": {
     "iopub.execute_input": "2023-03-03T00:42:52.524650Z",
     "iopub.status.busy": "2023-03-03T00:42:52.523841Z",
     "iopub.status.idle": "2023-03-03T00:42:52.536991Z",
     "shell.execute_reply": "2023-03-03T00:42:52.535856Z"
    },
    "papermill": {
     "duration": 0.046785,
     "end_time": "2023-03-03T00:42:52.539500",
     "exception": false,
     "start_time": "2023-03-03T00:42:52.492715",
     "status": "completed"
    },
    "tags": []
   },
   "outputs": [
    {
     "data": {
      "text/html": [
       "<div>\n",
       "<style scoped>\n",
       "    .dataframe tbody tr th:only-of-type {\n",
       "        vertical-align: middle;\n",
       "    }\n",
       "\n",
       "    .dataframe tbody tr th {\n",
       "        vertical-align: top;\n",
       "    }\n",
       "\n",
       "    .dataframe thead th {\n",
       "        text-align: right;\n",
       "    }\n",
       "</style>\n",
       "<table border=\"1\" class=\"dataframe\">\n",
       "  <thead>\n",
       "    <tr style=\"text-align: right;\">\n",
       "      <th></th>\n",
       "      <th>id</th>\n",
       "      <th>Strength</th>\n",
       "    </tr>\n",
       "  </thead>\n",
       "  <tbody>\n",
       "    <tr>\n",
       "      <th>0</th>\n",
       "      <td>5407</td>\n",
       "      <td>51.892376</td>\n",
       "    </tr>\n",
       "    <tr>\n",
       "      <th>1</th>\n",
       "      <td>5408</td>\n",
       "      <td>16.919874</td>\n",
       "    </tr>\n",
       "    <tr>\n",
       "      <th>2</th>\n",
       "      <td>5409</td>\n",
       "      <td>34.433327</td>\n",
       "    </tr>\n",
       "    <tr>\n",
       "      <th>3</th>\n",
       "      <td>5410</td>\n",
       "      <td>46.371868</td>\n",
       "    </tr>\n",
       "    <tr>\n",
       "      <th>4</th>\n",
       "      <td>5411</td>\n",
       "      <td>29.865444</td>\n",
       "    </tr>\n",
       "    <tr>\n",
       "      <th>...</th>\n",
       "      <td>...</td>\n",
       "      <td>...</td>\n",
       "    </tr>\n",
       "    <tr>\n",
       "      <th>3600</th>\n",
       "      <td>9007</td>\n",
       "      <td>32.142109</td>\n",
       "    </tr>\n",
       "    <tr>\n",
       "      <th>3601</th>\n",
       "      <td>9008</td>\n",
       "      <td>33.734116</td>\n",
       "    </tr>\n",
       "    <tr>\n",
       "      <th>3602</th>\n",
       "      <td>9009</td>\n",
       "      <td>39.567989</td>\n",
       "    </tr>\n",
       "    <tr>\n",
       "      <th>3603</th>\n",
       "      <td>9010</td>\n",
       "      <td>40.676945</td>\n",
       "    </tr>\n",
       "    <tr>\n",
       "      <th>3604</th>\n",
       "      <td>9011</td>\n",
       "      <td>23.714502</td>\n",
       "    </tr>\n",
       "  </tbody>\n",
       "</table>\n",
       "<p>3605 rows × 2 columns</p>\n",
       "</div>"
      ],
      "text/plain": [
       "        id   Strength\n",
       "0     5407  51.892376\n",
       "1     5408  16.919874\n",
       "2     5409  34.433327\n",
       "3     5410  46.371868\n",
       "4     5411  29.865444\n",
       "...    ...        ...\n",
       "3600  9007  32.142109\n",
       "3601  9008  33.734116\n",
       "3602  9009  39.567989\n",
       "3603  9010  40.676945\n",
       "3604  9011  23.714502\n",
       "\n",
       "[3605 rows x 2 columns]"
      ]
     },
     "execution_count": 10,
     "metadata": {},
     "output_type": "execute_result"
    }
   ],
   "source": [
    "nn_submission_df"
   ]
  },
  {
   "cell_type": "code",
   "execution_count": null,
   "id": "b8f3f778",
   "metadata": {
    "execution": {
     "iopub.execute_input": "2023-03-03T00:10:19.755103Z",
     "iopub.status.busy": "2023-03-03T00:10:19.754611Z",
     "iopub.status.idle": "2023-03-03T00:10:19.775178Z",
     "shell.execute_reply": "2023-03-03T00:10:19.773688Z",
     "shell.execute_reply.started": "2023-03-03T00:10:19.755063Z"
    },
    "papermill": {
     "duration": 0.030028,
     "end_time": "2023-03-03T00:42:52.599816",
     "exception": false,
     "start_time": "2023-03-03T00:42:52.569788",
     "status": "completed"
    },
    "tags": []
   },
   "outputs": [],
   "source": []
  },
  {
   "cell_type": "code",
   "execution_count": null,
   "id": "9132c2c6",
   "metadata": {
    "papermill": {
     "duration": 0.029691,
     "end_time": "2023-03-03T00:42:52.659311",
     "exception": false,
     "start_time": "2023-03-03T00:42:52.629620",
     "status": "completed"
    },
    "tags": []
   },
   "outputs": [],
   "source": []
  }
 ],
 "metadata": {
  "kernelspec": {
   "display_name": "Python 3",
   "language": "python",
   "name": "python3"
  },
  "language_info": {
   "codemirror_mode": {
    "name": "ipython",
    "version": 3
   },
   "file_extension": ".py",
   "mimetype": "text/x-python",
   "name": "python",
   "nbconvert_exporter": "python",
   "pygments_lexer": "ipython3",
   "version": "3.7.12"
  },
  "papermill": {
   "default_parameters": {},
   "duration": 61.638343,
   "end_time": "2023-03-03T00:42:56.283507",
   "environment_variables": {},
   "exception": null,
   "input_path": "__notebook__.ipynb",
   "output_path": "__notebook__.ipynb",
   "parameters": {},
   "start_time": "2023-03-03T00:41:54.645164",
   "version": "2.4.0"
  }
 },
 "nbformat": 4,
 "nbformat_minor": 5
}
